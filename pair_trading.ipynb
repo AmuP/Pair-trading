{
 "cells": [
  {
   "cell_type": "raw",
   "metadata": {},
   "source": []
  },
  {
   "cell_type": "code",
   "execution_count": 11,
   "metadata": {
    "collapsed": true
   },
   "outputs": [],
   "source": [
    "import numpy as np\n",
    "import pandas as pd\n",
    "import matplotlib.pyplot as plt\n",
    "import datetime\n",
    "# from matplotlib.finance import candlestick\n",
    "from matplotlib.dates import DateFormatter, WeekdayLocator, DayLocator, MONDAY, date2num\n",
    "import seaborn as sns\n",
    "import time\n",
    "import random\n",
    "from sklearn import linear_model\n",
    "from statsmodels.tsa.stattools import adfuller as adf\n",
    "import itertools\n",
    "import scipy\n",
    "from scipy.stats import pearsonr\n",
    "from statsmodels.tsa.stattools import coint  \n",
    "import statsmodels.api as sm\n",
    "import statsmodels.tsa.stattools as tsa\n",
    "\n",
    "\n",
    "data = pd.read_csv('data.csv')\n"
   ]
  },
  {
   "cell_type": "code",
   "execution_count": 12,
   "metadata": {
    "collapsed": true
   },
   "outputs": [],
   "source": [
    "data.columns.tolist()\n",
    "data.rename(columns={'\\ufeffDate': 'date'}, inplace=True)\n",
    "\n",
    "data['date'] = data['date'].apply(lambda d: datetime.datetime.strptime(d, \"%Y-%m-%d\"))\n",
    "data=data.set_index(['date'])"
   ]
  },
  {
   "cell_type": "code",
   "execution_count": null,
   "metadata": {
    "collapsed": true,
    "slideshow": {
     "slide_type": "-"
    }
   },
   "outputs": [],
   "source": [
    "Banks=data[['BAC US Equity','BBT US Equity','C US Equity','JPM US Equity','KEY US Equity','MTB US Equity',\n",
    "            'PNC US Equity','STI US Equity','USB US Equity','WFC US Equity']]\n",
    "\n",
    "Electricity= data[['AEP US Equity','D US Equity','ED US Equity','EXC US Equity','NEE US Equity','PCG US Equity',\n",
    "                   'PEG US Equity','PPL US Equity','SO US Equity','XEL US Equity']]\n",
    "\n",
    "Financial_Sercives= data[['AXP US Equity','BK US Equity','BLK US Equity','CME US Equity','COF US Equity',\n",
    "                          'GS US Equity','MA US Equity','MS US Equity','SCHW US Equity','V US Equity']]\n",
    "\n",
    "Gas_Water_MultiUlities = data[['AEE US Equity','AWK US Equity','CNP US Equity','DUK US Equity','NI US Equity',\n",
    "                               'OKE US Equity','SRE US Equity','WEC US Equity']]\n",
    "\n",
    "Life_Insurance= data[['AFL US Equity','AIZ US Equity','BHF US Equity','LNC US Equity','MET US Equity','PFG US Equity',\n",
    "                      'PRU US Equity','TMK US Equity','UNM US Equity']]\n",
    "\n",
    "\n",
    "Non_Life_Insurance= data[['AIG US Equity','ALL US Equity','AON US Equity','BRK/A US Equity','CB US Equity',\n",
    "                          'MMC US Equity','PGR US Equity','TRV US Equity','WLTW US Equity']]\n",
    "\n",
    "Oil_Gas_Producers= data[['APC US Equity','COP US Equity','CVX US Equity','EOG US Equity','MPC US Equity',\n",
    "                         'OXY US Equity','PSX US Equity','PXD US Equity','VLO US Equity','XOM US Equity']]\n",
    "\n",
    "\n",
    "Oil_Equipment_Services_Distribution=data[['BHGE US Equity','FTI US Equity','HAL US Equity','HP US Equity',\n",
    "                                          'KMI US Equity','NOV US Equity','SLB US Equity','WMB US Equity']]\n",
    "\n",
    "Real_Estate_Investment_Trusts=data[['AMT US Equity','AVB US Equity','CCI US Equity','DLR US Equity','EQIX US Equity',\n",
    "                                    'PLD US Equity','PSA US Equity','SPG US Equity','WY US Equity']]\n",
    "\n",
    "Software_Computer_Services =data[['ADBE US Equity','CRM US Equity','CTSH US Equity','FB US Equity','GOOGL US Equity',\n",
    "                                  'IBM US Equity','INTU US Equity','MSFT US Equity','ORCL US Equity']]\n",
    "\n",
    "Technology_Hardware_Equipment=data[['AAPL US Equity','AMAT US Equity','AVGO US Equity','CSCO US Equity',\n",
    "                                    'INTC US Equity','NVDA US Equity','QCOM US Equity','TXN US Equity']]\n"
   ]
  },
  {
   "cell_type": "code",
   "execution_count": 14,
   "metadata": {},
   "outputs": [],
   "source": [
    "Data_new= [Banks,Electricity,Financial_Sercives,Gas_Water_MultiUlities,Life_Insurance,\n",
    "           Non_Life_Insurance,Oil_Gas_Producers,Oil_Equipment_Services_Distribution,Real_Estate_Investment_Trusts,\n",
    "           Software_Computer_Services,Technology_Hardware_Equipment]"
   ]
  },
  {
   "cell_type": "code",
   "execution_count": 53,
   "metadata": {
    "collapsed": true
   },
   "outputs": [],
   "source": [
    "\n",
    "def pair_identification(data, verbose=True):\n",
    "\n",
    "    cointegrated_pairs = []\n",
    "    pearson_coeff = []\n",
    "    p_value = []\n",
    "    test_value = []\n",
    "    gamma_coeff = []\n",
    "    res_sd = []    \n",
    "    counter = 0\n",
    "    start_date_dt = data.index[0].date().strftime(\"%Y-%m\") \n",
    "    end_date_dt = data.index[-1].date().strftime(\"%Y-%m\")\n",
    "    ticket_list = data.columns.tolist()\n",
    "    for stock_pair in itertools.combinations(ticket_list, 2):\n",
    "        X = data.ix[start_date_dt:end_date_dt, stock_pair[0]]\n",
    "        Y = data.ix[start_date_dt:end_date_dt, stock_pair[1]]\n",
    "        corr_coeff = pearsonr(X, Y)[0]\n",
    "        if corr_coeff >= 0.90:\n",
    "            if coint(X, Y)[1] < 0.1:\n",
    "                reg = sm.OLS(X, Y).fit()\n",
    "                res = reg.resid\n",
    "                ADF_test = tsa.adfuller(res)\n",
    "                if ADF_test[1] < 0.1:\n",
    "                    cointegrated_pairs.append(stock_pair)\n",
    "                    p_value.append(ADF_test[1])\n",
    "                    test_value.append(ADF_test[0])\n",
    "                    gamma_coeff.append(reg.params[0])\n",
    "                    pearson_coeff.append(corr_coeff)\n",
    "                    res_sd.append(res.std())    \n",
    "                    counter += 1\n",
    "    if counter != 0:\n",
    "        index = pd.MultiIndex.from_tuples(cointegrated_pairs, names=['Stock_A', 'Stock_B'])\n",
    "        df = pd.DataFrame(data={'pearson':pearson_coeff, 'ADF_test_value':test_value, 'p_value':p_value,\n",
    "                                'gamma':gamma_coeff, 'sd_residuals':res_sd}, index=index)\n",
    "        return df"
   ]
  },
  {
   "cell_type": "code",
   "execution_count": 54,
   "metadata": {},
   "outputs": [
    {
     "name": "stdout",
     "output_type": "stream",
     "text": [
      "None\n",
      "None\n",
      "                             ADF_test_value     gamma   p_value   pearson  \\\n",
      "Stock_A       Stock_B                                                       \n",
      "AXP US Equity CME US Equity       -4.350499  0.640905  0.000363  0.968856   \n",
      "BLK US Equity V US Equity         -3.354510  4.481817  0.012611  0.950739   \n",
      "\n",
      "                             sd_residuals  \n",
      "Stock_A       Stock_B                      \n",
      "AXP US Equity CME US Equity      3.257995  \n",
      "BLK US Equity V US Equity       17.924448  \n",
      "None\n",
      "None\n",
      "                              ADF_test_value     gamma   p_value   pearson  \\\n",
      "Stock_A       Stock_B                                                        \n",
      "AON US Equity WLTW US Equity       -4.324095  0.891190  0.000403  0.964122   \n",
      "CB US Equity  MMC US Equity        -2.776518  1.867407  0.061707  0.978368   \n",
      "MMC US Equity WLTW US Equity       -4.088751  0.536116  0.001011  0.934508   \n",
      "\n",
      "                              sd_residuals  \n",
      "Stock_A       Stock_B                       \n",
      "AON US Equity WLTW US Equity      5.251637  \n",
      "CB US Equity  MMC US Equity       5.467926  \n",
      "MMC US Equity WLTW US Equity      3.382014  \n",
      "                             ADF_test_value     gamma  p_value   pearson  \\\n",
      "Stock_A       Stock_B                                                      \n",
      "COP US Equity CVX US Equity       -4.867028  0.419558  0.00004  0.905101   \n",
      "\n",
      "                             sd_residuals  \n",
      "Stock_A       Stock_B                      \n",
      "COP US Equity CVX US Equity      2.208265  \n",
      "None\n",
      "                              ADF_test_value     gamma   p_value   pearson  \\\n",
      "Stock_A       Stock_B                                                        \n",
      "AMT US Equity EQIX US Equity       -3.876314  0.304569  0.002216  0.970574   \n",
      "\n",
      "                              sd_residuals  \n",
      "Stock_A       Stock_B                       \n",
      "AMT US Equity EQIX US Equity      4.383314  \n",
      "                                ADF_test_value     gamma   p_value   pearson  \\\n",
      "Stock_A         Stock_B                                                        \n",
      "CRM US Equity   INTU US Equity       -2.858052  0.669931  0.050448  0.920083   \n",
      "FB US Equity    INTU US Equity       -3.067798  1.120115  0.029030  0.957935   \n",
      "GOOGL US Equity INTU US Equity       -3.053308  6.921762  0.030207  0.952493   \n",
      "INTU US Equity  MSFT US Equity       -3.113309  1.862536  0.025584  0.969056   \n",
      "\n",
      "                                sd_residuals  \n",
      "Stock_A         Stock_B                       \n",
      "CRM US Equity   INTU US Equity      5.076798  \n",
      "FB US Equity    INTU US Equity      7.182298  \n",
      "GOOGL US Equity INTU US Equity     44.014160  \n",
      "INTU US Equity  MSFT US Equity      5.383710  \n",
      "None\n"
     ]
    }
   ],
   "source": [
    "for f in Data_new:\n",
    "     print(pair_identification(f, verbose=True))"
   ]
  },
  {
   "cell_type": "code",
   "execution_count": null,
   "metadata": {
    "collapsed": true
   },
   "outputs": [],
   "source": []
  }
 ],
 "metadata": {
  "kernelspec": {
   "display_name": "Python [default]",
   "language": "python",
   "name": "python3"
  },
  "language_info": {
   "codemirror_mode": {
    "name": "ipython",
    "version": 3
   },
   "file_extension": ".py",
   "mimetype": "text/x-python",
   "name": "python",
   "nbconvert_exporter": "python",
   "pygments_lexer": "ipython3",
   "version": "3.6.3"
  }
 },
 "nbformat": 4,
 "nbformat_minor": 2
}
